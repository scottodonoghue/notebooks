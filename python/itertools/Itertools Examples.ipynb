{
 "cells": [
  {
   "cell_type": "markdown",
   "id": "363333c0-2d91-4ead-ab96-6a1610e2407a",
   "metadata": {},
   "source": [
    "## Examples of Python Itertools\n",
    "\n",
    "\n",
    "\n",
    "Source: https://realpython.com/python-itertools/"
   ]
  },
  {
   "cell_type": "markdown",
   "id": "652414e6-fc49-41f3-bbd2-35f785c71853",
   "metadata": {
    "tags": []
   },
   "source": [
    "#### The zip and map builtins\n",
    "\n",
    "zip - combines elements from two iterables into a tuple of each element by index. So the first elements of each iterable are paired together, as are the second, and so on.\n",
    "map - applies a given function to each element in an iterable"
   ]
  },
  {
   "cell_type": "code",
   "execution_count": 1,
   "id": "7ba7533e-84f8-4337-adfc-4475e486f5bb",
   "metadata": {
    "tags": []
   },
   "outputs": [
    {
     "name": "stdout",
     "output_type": "stream",
     "text": [
      "Example of zip:\n",
      "[('a', 1), ('b', 2), ('c', 3)]\n",
      "\n",
      "Example of map:\n",
      "[3, 1, 10]\n",
      "\n",
      "Example of combining map and zip:\n",
      "[5, 7, 9]\n"
     ]
    },
    {
     "data": {
      "text/plain": [
       "[5, 7, 9]"
      ]
     },
     "execution_count": 1,
     "metadata": {},
     "output_type": "execute_result"
    }
   ],
   "source": [
    "print(\"Example of zip:\")\n",
    "print(list(zip([\"a\", \"b\", \"c\"], [1, 2, 3])))\n",
    "\n",
    "print(\"\\nExample of map:\")\n",
    "print(list(map(len, ([1,2,3], [2], range(10)))))\n",
    "\n",
    "print(\"\\nExample of combining map and zip:\")\n",
    "print(list(map(sum, zip([1, 2, 3], [4, 5, 6]))))\n",
    "[5, 7, 9]"
   ]
  },
  {
   "cell_type": "markdown",
   "id": "639c4450-2f06-4d7b-b723-0f88d5819d2a",
   "metadata": {},
   "source": [
    "### Performance improvements using itertools"
   ]
  },
  {
   "cell_type": "code",
   "execution_count": 2,
   "id": "90c89ebe-aec3-4b02-a4b4-010c83fc2173",
   "metadata": {
    "tags": []
   },
   "outputs": [
    {
     "data": {
      "text/plain": [
       "[(1, 2), (3, 4), (5, 6), (7, 8), (9, 10)]"
      ]
     },
     "execution_count": 2,
     "metadata": {},
     "output_type": "execute_result"
    }
   ],
   "source": [
    "def naive_grouper(inputs, n):\n",
    "    num_groups = len(inputs) // n\n",
    "    return [tuple(inputs[i*n:(i+1)*n]) for i in range(num_groups)]\n",
    "\n",
    "nums = [1, 2, 3, 4, 5, 6, 7, 8, 9, 10]\n",
    "naive_grouper(nums, 2)"
   ]
  },
  {
   "cell_type": "code",
   "execution_count": 19,
   "id": "9d9dc420-92df-4240-a057-c950fb41db9a",
   "metadata": {
    "tags": []
   },
   "outputs": [
    {
     "name": "stdout",
     "output_type": "stream",
     "text": [
      "1.72 s ± 55.1 ms per loop (mean ± std. dev. of 3 runs, 1 loop each)\n"
     ]
    }
   ],
   "source": [
    "%%timeit -r 3\n",
    "\n",
    "for _ in naive_grouper(range(10_000_000), 10):\n",
    "    pass"
   ]
  },
  {
   "cell_type": "code",
   "execution_count": 34,
   "id": "a3f31f01-aaa5-4cfc-8e84-c2a0469d1227",
   "metadata": {
    "tags": []
   },
   "outputs": [],
   "source": [
    "def better_grouper(inputs, n):\n",
    "    # Create n copies of references to the inputs\n",
    "    iters = [iter(inputs)] * n\n",
    "    \n",
    "    # When zip these references together. As zip pulls an element from an iterable, it does so for all of the references.\n",
    "    # So when the first iterable is taken from zip's second input, this is now the second element of the original list. \n",
    "    return zip(*iters)"
   ]
  },
  {
   "cell_type": "code",
   "execution_count": 35,
   "id": "877ab8ca-ec99-4638-8d6b-2061a484d3b6",
   "metadata": {
    "tags": []
   },
   "outputs": [
    {
     "data": {
      "text/plain": [
       "[(1, 2), (3, 4), (5, 6), (7, 8), (9, 10)]"
      ]
     },
     "execution_count": 35,
     "metadata": {},
     "output_type": "execute_result"
    }
   ],
   "source": [
    "nums = [1, 2, 3, 4, 5, 6, 7, 8, 9, 10]\n",
    "list(better_grouper(nums, 2))"
   ]
  },
  {
   "cell_type": "code",
   "execution_count": 39,
   "id": "bcb50f4c-e44c-4f96-98e2-7d757891a404",
   "metadata": {
    "tags": []
   },
   "outputs": [
    {
     "name": "stdout",
     "output_type": "stream",
     "text": [
      "444 ms ± 9.51 ms per loop (mean ± std. dev. of 3 runs, 1 loop each)\n"
     ]
    }
   ],
   "source": [
    "%%timeit -r 3\n",
    "\n",
    "def better_grouper(inputs, n):\n",
    "    iters = [iter(inputs)] * n\n",
    "    return zip(*iters)\n",
    "\n",
    "# This version is approximately 4 times faster\n",
    "for _ in better_grouper(range(10_000_000), 10):\n",
    "    pass"
   ]
  },
  {
   "cell_type": "markdown",
   "id": "893dcc22-b1b2-4e29-aedb-0693f0eb9107",
   "metadata": {},
   "source": [
    "`better_grouper` above fails to return all elements when n is not a factor of the length of the input list.\n",
    "The reason for this is that zip stops when it exhausts the shortest iterable passed to it.\n",
    "`itertools` zip_longest overcomes this problem."
   ]
  },
  {
   "cell_type": "code",
   "execution_count": 40,
   "id": "c2a20eb6-a1ca-4eb7-965f-21abb1034d48",
   "metadata": {
    "tags": []
   },
   "outputs": [
    {
     "data": {
      "text/plain": [
       "[(1, 2, 3, 4), (5, 6, 7, 8)]"
      ]
     },
     "execution_count": 40,
     "metadata": {},
     "output_type": "execute_result"
    }
   ],
   "source": [
    "nums = [1, 2, 3, 4, 5, 6, 7, 8, 9, 10]\n",
    "list(better_grouper(nums, 4))"
   ]
  },
  {
   "cell_type": "code",
   "execution_count": 41,
   "id": "fd1cffd0-65be-4f8f-b7f6-2b4f87307102",
   "metadata": {
    "tags": []
   },
   "outputs": [
    {
     "name": "stdout",
     "output_type": "stream",
     "text": [
      "[(1, 2, 3, 4), (5, 6, 7, 8), (9, 10, None, None)]\n"
     ]
    }
   ],
   "source": [
    "import itertools as it\n",
    "\n",
    "\n",
    "def grouper(inputs, n, fillvalue=None):\n",
    "    iters = [iter(inputs)] * n\n",
    "    return it.zip_longest(*iters, fillvalue=fillvalue)\n",
    "\n",
    "nums = [1, 2, 3, 4, 5, 6, 7, 8, 9, 10]\n",
    "print(list(grouper(nums, 4)))"
   ]
  },
  {
   "cell_type": "markdown",
   "id": "66caf0d1-b05d-4c27-bd10-21ac1cf22524",
   "metadata": {},
   "source": [
    "### Example - Ways to make change from combinations of notes\n",
    "\n",
    "Given, USD bills as listed in bills below, how many ways can you make change for a $100 bill?\n",
    "\n",
    "\n",
    "For this we can use the `combinations` function from itertools. "
   ]
  },
  {
   "cell_type": "code",
   "execution_count": 43,
   "id": "cb3639ff-4192-41a7-bd64-c4748322d278",
   "metadata": {
    "tags": []
   },
   "outputs": [],
   "source": [
    "bills = [20, 20, 20, 10, 10, 10, 10, 10, 5, 5, 1, 1, 1, 1, 1]\n",
    "# list(it.combinations(bills, 3))\n",
    "\n",
    "makes_100 = []\n",
    "for n in range(1, len(bills) + 1):\n",
    "    for combination in it.combinations(bills, n):\n",
    "        if sum(combination) == 100:\n",
    "            makes_100.append(combination)"
   ]
  },
  {
   "cell_type": "code",
   "execution_count": 45,
   "id": "742aeeb8-58fe-4adb-aa46-cb76b02ca4d1",
   "metadata": {
    "tags": []
   },
   "outputs": [
    {
     "data": {
      "text/plain": [
       "{(20, 20, 10, 10, 10, 10, 10, 5, 1, 1, 1, 1, 1),\n",
       " (20, 20, 10, 10, 10, 10, 10, 5, 5),\n",
       " (20, 20, 20, 10, 10, 10, 5, 1, 1, 1, 1, 1),\n",
       " (20, 20, 20, 10, 10, 10, 5, 5),\n",
       " (20, 20, 20, 10, 10, 10, 10)}"
      ]
     },
     "execution_count": 45,
     "metadata": {},
     "output_type": "execute_result"
    }
   ],
   "source": [
    "set(makes_100)"
   ]
  },
  {
   "cell_type": "markdown",
   "id": "3073c65e-3c81-4f9e-a71a-e5502b761ac6",
   "metadata": {},
   "source": [
    "Here’s a variation on the same problem:\n",
    "\n",
    "``` How many ways are there to make change for a $100 bill using any number of $50, $20, $10, $5, and $1 dollar bills? ```\n",
    "\n",
    "For this we can use `it.combinations_with_replacement`"
   ]
  },
  {
   "cell_type": "code",
   "execution_count": 60,
   "id": "2dddb172-680f-4492-80e0-8a06c3c56e7b",
   "metadata": {
    "tags": []
   },
   "outputs": [
    {
     "data": {
      "text/plain": [
       "[(10, 10), (10, 5), (10, 1), (5, 5), (5, 1), (1, 1)]"
      ]
     },
     "execution_count": 60,
     "metadata": {},
     "output_type": "execute_result"
    }
   ],
   "source": [
    "list(it.combinations_with_replacement(bills, 2))"
   ]
  },
  {
   "cell_type": "code",
   "execution_count": 64,
   "id": "de063a88-e375-4eff-8465-ba1cf6194c3c",
   "metadata": {
    "tags": []
   },
   "outputs": [],
   "source": [
    "bills = [10, 5, 1]\n",
    "makes_100 = []\n",
    "\n",
    "value = 50\n",
    "for n in range(1, 20):\n",
    "    for combination in it.combinations_with_replacement(bills, n):\n",
    "        sum(combination)\n",
    "        if sum(combination) == value:\n",
    "            makes_100.append(combination)"
   ]
  },
  {
   "cell_type": "code",
   "execution_count": 65,
   "id": "073dbe77-d0ec-4413-899e-59452c8b1a84",
   "metadata": {
    "tags": []
   },
   "outputs": [
    {
     "data": {
      "text/plain": [
       "[(10, 10, 10, 10, 10),\n",
       " (10, 10, 10, 10, 5, 5),\n",
       " (10, 10, 10, 5, 5, 5, 5),\n",
       " (10, 10, 5, 5, 5, 5, 5, 5),\n",
       " (10, 5, 5, 5, 5, 5, 5, 5, 5),\n",
       " (10, 10, 10, 10, 5, 1, 1, 1, 1, 1),\n",
       " (5, 5, 5, 5, 5, 5, 5, 5, 5, 5),\n",
       " (10, 10, 10, 5, 5, 5, 1, 1, 1, 1, 1),\n",
       " (10, 10, 5, 5, 5, 5, 5, 1, 1, 1, 1, 1),\n",
       " (10, 5, 5, 5, 5, 5, 5, 5, 1, 1, 1, 1, 1),\n",
       " (10, 10, 10, 10, 1, 1, 1, 1, 1, 1, 1, 1, 1, 1),\n",
       " (5, 5, 5, 5, 5, 5, 5, 5, 5, 1, 1, 1, 1, 1),\n",
       " (10, 10, 10, 5, 5, 1, 1, 1, 1, 1, 1, 1, 1, 1, 1),\n",
       " (10, 10, 5, 5, 5, 5, 1, 1, 1, 1, 1, 1, 1, 1, 1, 1),\n",
       " (10, 5, 5, 5, 5, 5, 5, 1, 1, 1, 1, 1, 1, 1, 1, 1, 1),\n",
       " (5, 5, 5, 5, 5, 5, 5, 5, 1, 1, 1, 1, 1, 1, 1, 1, 1, 1),\n",
       " (10, 10, 10, 5, 1, 1, 1, 1, 1, 1, 1, 1, 1, 1, 1, 1, 1, 1, 1)]"
      ]
     },
     "execution_count": 65,
     "metadata": {},
     "output_type": "execute_result"
    }
   ],
   "source": [
    "makes_100"
   ]
  },
  {
   "cell_type": "markdown",
   "id": "f47e78e0-9583-495c-8011-91bad12eaa10",
   "metadata": {},
   "source": [
    "`permuations` example"
   ]
  },
  {
   "cell_type": "code",
   "execution_count": 66,
   "id": "66ce3f06-ed67-4720-8f56-b2bf6512201e",
   "metadata": {
    "tags": []
   },
   "outputs": [
    {
     "data": {
      "text/plain": [
       "[('a', 'b', 'c'),\n",
       " ('a', 'c', 'b'),\n",
       " ('b', 'a', 'c'),\n",
       " ('b', 'c', 'a'),\n",
       " ('c', 'a', 'b'),\n",
       " ('c', 'b', 'a')]"
      ]
     },
     "execution_count": 66,
     "metadata": {},
     "output_type": "execute_result"
    }
   ],
   "source": [
    "list(it.permutations(['a', 'b', 'c']))"
   ]
  },
  {
   "cell_type": "markdown",
   "id": "2c8efd03-edbf-40ac-9a7c-f92cb9e9c41d",
   "metadata": {},
   "source": [
    "### `itertools.count`"
   ]
  },
  {
   "cell_type": "code",
   "execution_count": 69,
   "id": "17835c84-6aad-4a73-b971-0e3601ab9513",
   "metadata": {
    "tags": []
   },
   "outputs": [
    {
     "data": {
      "text/plain": [
       "[0, 2, 4, 6, 8]"
      ]
     },
     "execution_count": 69,
     "metadata": {},
     "output_type": "execute_result"
    }
   ],
   "source": [
    "evens = it.count(step=2)\n",
    "list(next(evens) for _ in range(5))"
   ]
  },
  {
   "cell_type": "code",
   "execution_count": 70,
   "id": "9bad794c-f9e1-43ea-abc2-d729ace88898",
   "metadata": {
    "tags": []
   },
   "outputs": [
    {
     "data": {
      "text/plain": [
       "[1, 3, 5, 7, 9]"
      ]
     },
     "execution_count": 70,
     "metadata": {},
     "output_type": "execute_result"
    }
   ],
   "source": [
    "odds = it.count(start=1, step=2)\n",
    "list(next(odds) for _ in range(5))"
   ]
  },
  {
   "cell_type": "code",
   "execution_count": 71,
   "id": "6c756cdc-5b34-4f51-91dd-8051ac969735",
   "metadata": {
    "tags": []
   },
   "outputs": [
    {
     "data": {
      "text/plain": [
       "[0.5, 1.25, 2.0, 2.75, 3.5]"
      ]
     },
     "execution_count": 71,
     "metadata": {},
     "output_type": "execute_result"
    }
   ],
   "source": [
    "count_with_floats = it.count(start=0.5, step=0.75)\n",
    "list(next(count_with_floats) for _ in range(5))"
   ]
  },
  {
   "cell_type": "markdown",
   "id": "c96bc6ea-a1f3-4dfb-831a-56916c0c16e9",
   "metadata": {},
   "source": [
    "### Recurrence Relations\n",
    "\n",
    "\n",
    "Example Fibonacci numbers"
   ]
  },
  {
   "cell_type": "code",
   "execution_count": 72,
   "id": "318340ac-a2d9-4b2e-a7a8-8ce2cc617152",
   "metadata": {
    "tags": []
   },
   "outputs": [],
   "source": [
    "# Example with generator:\n",
    "\n",
    "def fibs():\n",
    "    a, b = 0, 1\n",
    "    while True:\n",
    "        yield a\n",
    "        a, b = b, a + b"
   ]
  },
  {
   "cell_type": "code",
   "execution_count": 74,
   "id": "d7d9187e-c45c-4b4d-a258-7d3cd092f243",
   "metadata": {
    "tags": []
   },
   "outputs": [
    {
     "data": {
      "text/plain": [
       "[0, 0, 0, 0, 0]"
      ]
     },
     "execution_count": 74,
     "metadata": {},
     "output_type": "execute_result"
    }
   ],
   "source": [
    "list(next(fibs()) for _ in range(5))"
   ]
  },
  {
   "cell_type": "code",
   "execution_count": 82,
   "id": "f6c07728-7e20-46a6-9d38-fb9de5dc1571",
   "metadata": {
    "tags": []
   },
   "outputs": [
    {
     "data": {
      "text/plain": [
       "0"
      ]
     },
     "execution_count": 82,
     "metadata": {},
     "output_type": "execute_result"
    }
   ],
   "source": [
    "next(fibs())"
   ]
  },
  {
   "cell_type": "code",
   "execution_count": null,
   "id": "dbd0dc2f-80d8-484b-81d9-c2d46d503b33",
   "metadata": {},
   "outputs": [],
   "source": []
  }
 ],
 "metadata": {
  "kernelspec": {
   "display_name": "notebooks",
   "language": "python",
   "name": "notebooks"
  },
  "language_info": {
   "codemirror_mode": {
    "name": "ipython",
    "version": 3
   },
   "file_extension": ".py",
   "mimetype": "text/x-python",
   "name": "python",
   "nbconvert_exporter": "python",
   "pygments_lexer": "ipython3",
   "version": "3.12.1"
  }
 },
 "nbformat": 4,
 "nbformat_minor": 5
}
